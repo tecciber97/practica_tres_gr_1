{
 "cells": [
  {
   "cell_type": "markdown",
   "metadata": {},
   "source": [
    "Proyecto 3 - Tratamiento de Datos - GRUPO #1\n",
    "Este Cuaderno..."
   ]
  }
 ],
 "metadata": {
  "language_info": {
   "name": "python"
  }
 },
 "nbformat": 4,
 "nbformat_minor": 2
}
